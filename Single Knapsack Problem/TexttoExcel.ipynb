{
 "cells": [
  {
   "cell_type": "code",
   "execution_count": 4,
   "metadata": {},
   "outputs": [],
   "source": [
    "import pandas as pd\n",
    "\n",
    "# Sample text data\n",
    "text_data = '''\n",
    "Number of Items = 4\n",
    "Total Weight = 20\n",
    "Weights = [9 6 7 5]\n",
    "Profits = [13  9 15 11]\n",
    "Values = [35.0 35.0 35.0 35.0 35.0 35.0 35.0 35.0 35.0 35.0 35.0 35.0 35.0 35.0 35.0 35.0 35.0 35.0 35.0 35.0 35.0 35.0 35.0 35.0 35.0 35.0 35.0 35.0 35.0 35.0]\n",
    "Run = 30\n",
    "Average = 35.0\n",
    "Maximum = 35.0\n",
    "Minimum = 35.0\n",
    "Frequency of Highest = 30\n",
    "Frequency of Lowest = 30\n",
    "Standard Deviation = 0.0\n",
    "Time for 30 runs = 19\n",
    "Sum of Weights for maximum = 18\n",
    "'''\n",
    "\n",
    "# Function to parse the text data and convert it to a DataFrame\n",
    "def parse_text_data(text_data):\n",
    "    data = {}\n",
    "    lines = text_data.split('\\n')\n",
    "\n",
    "    for line in lines:\n",
    "        if line.strip():\n",
    "            key, value = line.split('=')\n",
    "            key = key.strip().replace(' ', '_')\n",
    "            value = value.strip()\n",
    "            if key!='Weights' and key!='Profits' and key!='Values':\n",
    "                value= float(value)\n",
    "            data[key] = [value]\n",
    "\n",
    "    df = pd.DataFrame(data)\n",
    "    return df\n",
    "\n",
    "# Parse the text data\n",
    "df = parse_text_data(text_data)\n",
    "\n",
    "\n"
   ]
  },
  {
   "cell_type": "code",
   "execution_count": 5,
   "metadata": {},
   "outputs": [
    {
     "data": {
      "text/html": [
       "<div>\n",
       "<style scoped>\n",
       "    .dataframe tbody tr th:only-of-type {\n",
       "        vertical-align: middle;\n",
       "    }\n",
       "\n",
       "    .dataframe tbody tr th {\n",
       "        vertical-align: top;\n",
       "    }\n",
       "\n",
       "    .dataframe thead th {\n",
       "        text-align: right;\n",
       "    }\n",
       "</style>\n",
       "<table border=\"1\" class=\"dataframe\">\n",
       "  <thead>\n",
       "    <tr style=\"text-align: right;\">\n",
       "      <th></th>\n",
       "      <th>Number_of_Items</th>\n",
       "      <th>Total_Weight</th>\n",
       "      <th>Weights</th>\n",
       "      <th>Profits</th>\n",
       "      <th>Values</th>\n",
       "      <th>Run</th>\n",
       "      <th>Average</th>\n",
       "      <th>Maximum</th>\n",
       "      <th>Minimum</th>\n",
       "      <th>Frequency_of_Highest</th>\n",
       "      <th>Frequency_of_Lowest</th>\n",
       "      <th>Standard_Deviation</th>\n",
       "      <th>Time_for_30_runs</th>\n",
       "      <th>Sum_of_Weights_for_maximum</th>\n",
       "    </tr>\n",
       "  </thead>\n",
       "  <tbody>\n",
       "    <tr>\n",
       "      <th>0</th>\n",
       "      <td>4.0</td>\n",
       "      <td>20.0</td>\n",
       "      <td>[9 6 7 5]</td>\n",
       "      <td>[13  9 15 11]</td>\n",
       "      <td>[35.0 35.0 35.0 35.0 35.0 35.0 35.0 35.0 35.0 ...</td>\n",
       "      <td>30.0</td>\n",
       "      <td>35.0</td>\n",
       "      <td>35.0</td>\n",
       "      <td>35.0</td>\n",
       "      <td>30.0</td>\n",
       "      <td>30.0</td>\n",
       "      <td>0.0</td>\n",
       "      <td>19.0</td>\n",
       "      <td>18.0</td>\n",
       "    </tr>\n",
       "  </tbody>\n",
       "</table>\n",
       "</div>"
      ],
      "text/plain": [
       "   Number_of_Items  Total_Weight    Weights        Profits  \\\n",
       "0              4.0          20.0  [9 6 7 5]  [13  9 15 11]   \n",
       "\n",
       "                                              Values   Run  Average  Maximum  \\\n",
       "0  [35.0 35.0 35.0 35.0 35.0 35.0 35.0 35.0 35.0 ...  30.0     35.0     35.0   \n",
       "\n",
       "   Minimum  Frequency_of_Highest  Frequency_of_Lowest  Standard_Deviation  \\\n",
       "0     35.0                  30.0                 30.0                 0.0   \n",
       "\n",
       "   Time_for_30_runs  Sum_of_Weights_for_maximum  \n",
       "0              19.0                        18.0  "
      ]
     },
     "execution_count": 5,
     "metadata": {},
     "output_type": "execute_result"
    }
   ],
   "source": [
    "df"
   ]
  },
  {
   "cell_type": "code",
   "execution_count": null,
   "metadata": {},
   "outputs": [
    {
     "name": "stdout",
     "output_type": "stream",
     "text": [
      "Data has been written to output_data.xlsx\n"
     ]
    }
   ],
   "source": [
    "# Write the DataFrame to an Excel file\n",
    "excel_file_path = 'output_data.xlsx'\n",
    "df.to_excel(excel_file_path, index=False)\n",
    "\n",
    "print(f'Data has been written to {excel_file_path}')"
   ]
  },
  {
   "cell_type": "code",
   "execution_count": 9,
   "metadata": {},
   "outputs": [
    {
     "name": "stdout",
     "output_type": "stream",
     "text": [
      "Data has been written to output_data.xlsx\n"
     ]
    }
   ],
   "source": [
    "import pandas as pd\n",
    "import re\n",
    "\n",
    "# Read the text data from a file\n",
    "with open('Record.txt', 'r') as file:\n",
    "    text_data = file.read()\n",
    "\n",
    "# Split the text into individual data blocks using a separator\n",
    "data_blocks = re.split('-x-x-x-x-x-x-x-x-x-x-x-x-x-x-x-x-x-x-x-x-x-x-x-x-x-x-x-x-x-', text_data)\n",
    "\n",
    "# Function to parse a data block and convert it to a DataFrame\n",
    "def parse_data_block(data_block):\n",
    "    data = {}\n",
    "    lines = data_block.strip().split('\\n')\n",
    "\n",
    "    for line in lines:\n",
    "        if '=' in line:\n",
    "            key, value = line.split('=', 1)\n",
    "            key = key.strip().replace(' ', '_')\n",
    "            value = value.strip()\n",
    "\n",
    "            # Convert values to list if they are comma-separated\n",
    "            if ',' in value:\n",
    "                value = [float(v) if '.' in v else int(v) for v in value.split(',')]\n",
    "            else:\n",
    "                # Convert to float if it's a decimal number\n",
    "                try:\n",
    "                    value = float(value) if '.' in value else int(value)\n",
    "                except ValueError:\n",
    "                    pass\n",
    "\n",
    "            data[key] = [value]\n",
    "\n",
    "    df = pd.DataFrame(data)\n",
    "    return df\n",
    "\n",
    "# Parse each data block and concatenate them into a single DataFrame\n",
    "dfs = [parse_data_block(data_block) for data_block in data_blocks if data_block.strip()]\n",
    "result_df = pd.concat(dfs, ignore_index=True)\n",
    "\n",
    "# Write the combined DataFrame to an Excel file\n",
    "excel_file_path = 'output_data.xlsx'\n",
    "result_df.to_excel(excel_file_path, index=False)\n",
    "\n",
    "print(f'Data has been written to {excel_file_path}')\n"
   ]
  },
  {
   "cell_type": "code",
   "execution_count": null,
   "metadata": {},
   "outputs": [],
   "source": []
  }
 ],
 "metadata": {
  "kernelspec": {
   "display_name": "Python 3",
   "language": "python",
   "name": "python3"
  },
  "language_info": {
   "codemirror_mode": {
    "name": "ipython",
    "version": 3
   },
   "file_extension": ".py",
   "mimetype": "text/x-python",
   "name": "python",
   "nbconvert_exporter": "python",
   "pygments_lexer": "ipython3",
   "version": "3.10.10"
  }
 },
 "nbformat": 4,
 "nbformat_minor": 2
}
